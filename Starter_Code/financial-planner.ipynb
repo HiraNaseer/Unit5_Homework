{
 "cells": [
  {
   "cell_type": "markdown",
   "metadata": {},
   "source": [
    "# Unit 5 - Financial Planning"
   ]
  },
  {
   "cell_type": "code",
   "execution_count": 1,
   "metadata": {},
   "outputs": [],
   "source": [
    "# Initial imports\n",
    "import os\n",
    "import requests\n",
    "import pandas as pd\n",
    "from dotenv import load_dotenv\n",
    "import alpaca_trade_api as tradeapi\n",
    "from MCForecastTools import MCSimulation\n",
    "import json\n",
    "\n",
    "%matplotlib inline"
   ]
  },
  {
   "cell_type": "code",
   "execution_count": 2,
   "metadata": {},
   "outputs": [
    {
     "data": {
      "text/plain": [
       "True"
      ]
     },
     "execution_count": 2,
     "metadata": {},
     "output_type": "execute_result"
    }
   ],
   "source": [
    "# Load .env enviroment variables\n",
    "from dotenv import load_dotenv\n",
    "load_dotenv()"
   ]
  },
  {
   "cell_type": "markdown",
   "metadata": {},
   "source": [
    "## Part 1 - Personal Finance Planner"
   ]
  },
  {
   "cell_type": "markdown",
   "metadata": {
    "tags": []
   },
   "source": [
    "### Collect Crypto Prices Using the `requests` Library"
   ]
  },
  {
   "cell_type": "code",
   "execution_count": null,
   "metadata": {},
   "outputs": [],
   "source": [
    "# Set current amount of crypto assets\n",
    "my_btc = 1.2\n",
    "my_eth = 5.3"
   ]
  },
  {
   "cell_type": "code",
   "execution_count": 4,
   "metadata": {},
   "outputs": [],
   "source": [
    "# Crypto API URLs\n",
    "btc_url = \"https://api.alternative.me/v2/ticker/Bitcoin/?convert=CAD\"\n",
    "eth_url = \"https://api.alternative.me/v2/ticker/Ethereum/?convert=CAD\""
   ]
  },
  {
   "cell_type": "code",
   "execution_count": 5,
   "metadata": {},
   "outputs": [],
   "source": [
    "# Fetch current BTC price\n",
    "response_btc_data = requests.get(btc_url).json()"
   ]
  },
  {
   "cell_type": "code",
   "execution_count": null,
   "metadata": {},
   "outputs": [],
   "source": [
    "# Fetch current ETH price\n",
    "response_eth_data = requests.get(eth_url).json()"
   ]
  },
  {
   "cell_type": "code",
   "execution_count": 7,
   "metadata": {},
   "outputs": [
    {
     "data": {
      "text/plain": [
       "47120.0"
      ]
     },
     "execution_count": 7,
     "metadata": {},
     "output_type": "execute_result"
    }
   ],
   "source": [
    "# Compute current value of my crpto\n",
    "#current value of btc\n",
    "current_btc_value = response_btc_data['data']['1']['quotes']['USD']['price']\n",
    "current_btc_value"
   ]
  },
  {
   "cell_type": "code",
   "execution_count": 8,
   "metadata": {},
   "outputs": [
    {
     "data": {
      "text/plain": [
       "3793.15"
      ]
     },
     "execution_count": 8,
     "metadata": {},
     "output_type": "execute_result"
    }
   ],
   "source": [
    "# Compute current value of my crpto\n",
    "#current value of eth\n",
    "current_eth_value = response_eth_data['data']['1027']['quotes']['USD']['price']\n",
    "current_eth_value"
   ]
  },
  {
   "cell_type": "code",
   "execution_count": 9,
   "metadata": {},
   "outputs": [
    {
     "data": {
      "text/plain": [
       "50913.15"
      ]
     },
     "execution_count": 9,
     "metadata": {},
     "output_type": "execute_result"
    }
   ],
   "source": [
    "#current value of the crypto assets\n",
    "crypto_assets = current_btc_value + current_eth_value\n",
    "crypto_assets"
   ]
  },
  {
   "cell_type": "code",
   "execution_count": 10,
   "metadata": {},
   "outputs": [
    {
     "name": "stdout",
     "output_type": "stream",
     "text": [
      "The current value of your 1.2 BTC is $47120.00\n",
      "The current value of your 5.3 ETH is $3793.15\n"
     ]
    }
   ],
   "source": [
    "# Print current crypto wallet balance\n",
    "print(f\"The current value of your {my_btc} BTC is ${current_btc_value:0.2f}\")\n",
    "print(f\"The current value of your {my_eth} ETH is ${current_eth_value:0.2f}\")"
   ]
  },
  {
   "cell_type": "markdown",
   "metadata": {},
   "source": [
    "### Collect Investments Data Using Alpaca: `SPY` (stocks) and `AGG` (bonds)"
   ]
  },
  {
   "cell_type": "code",
   "execution_count": 11,
   "metadata": {},
   "outputs": [],
   "source": [
    "# Set current amount of shares\n",
    "my_agg = 200\n",
    "my_spy = 50\n",
    "\n",
    "shares_data = {\"shares\": [200, 50]}"
   ]
  },
  {
   "cell_type": "code",
   "execution_count": 12,
   "metadata": {},
   "outputs": [
    {
     "data": {
      "text/plain": [
       "str"
      ]
     },
     "execution_count": 12,
     "metadata": {},
     "output_type": "execute_result"
    }
   ],
   "source": [
    "# Set Alpaca API key and secret\n",
    "alpaca_api_key = os.getenv(\"ALPACA_API_KEY\")\n",
    "alpaca_secret_key = os.getenv(\"ALPACA_SECRET_KEY\")\n",
    "\n",
    "type(alpaca_api_key)\n",
    "type(alpaca_secret_key)"
   ]
  },
  {
   "cell_type": "code",
   "execution_count": 13,
   "metadata": {},
   "outputs": [],
   "source": [
    "# Create the Alpaca API object\n",
    "alpaca = tradeapi.REST(\n",
    "    alpaca_api_key,\n",
    "    alpaca_secret_key,\n",
    "    api_version=\"v2\")"
   ]
  },
  {
   "cell_type": "code",
   "execution_count": 14,
   "metadata": {},
   "outputs": [],
   "source": [
    "# Format current date as ISO format\n",
    "today = pd.Timestamp(\"2021-08-12\", tz=\"America/New_York\").isoformat()"
   ]
  },
  {
   "cell_type": "code",
   "execution_count": 15,
   "metadata": {},
   "outputs": [],
   "source": [
    "# Set the tickers\n",
    "tickers = [\"AGG\", \"SPY\"]"
   ]
  },
  {
   "cell_type": "code",
   "execution_count": 16,
   "metadata": {},
   "outputs": [],
   "source": [
    "# Set timeframe to '1D' for Alpaca API\n",
    "timeframe = \"1D\""
   ]
  },
  {
   "cell_type": "code",
   "execution_count": 17,
   "metadata": {},
   "outputs": [
    {
     "data": {
      "text/html": [
       "<div>\n",
       "<style scoped>\n",
       "    .dataframe tbody tr th:only-of-type {\n",
       "        vertical-align: middle;\n",
       "    }\n",
       "\n",
       "    .dataframe tbody tr th {\n",
       "        vertical-align: top;\n",
       "    }\n",
       "\n",
       "    .dataframe thead tr th {\n",
       "        text-align: left;\n",
       "    }\n",
       "\n",
       "    .dataframe thead tr:last-of-type th {\n",
       "        text-align: right;\n",
       "    }\n",
       "</style>\n",
       "<table border=\"1\" class=\"dataframe\">\n",
       "  <thead>\n",
       "    <tr>\n",
       "      <th></th>\n",
       "      <th colspan=\"5\" halign=\"left\">AGG</th>\n",
       "      <th colspan=\"5\" halign=\"left\">SPY</th>\n",
       "    </tr>\n",
       "    <tr>\n",
       "      <th></th>\n",
       "      <th>open</th>\n",
       "      <th>high</th>\n",
       "      <th>low</th>\n",
       "      <th>close</th>\n",
       "      <th>volume</th>\n",
       "      <th>open</th>\n",
       "      <th>high</th>\n",
       "      <th>low</th>\n",
       "      <th>close</th>\n",
       "      <th>volume</th>\n",
       "    </tr>\n",
       "    <tr>\n",
       "      <th>time</th>\n",
       "      <th></th>\n",
       "      <th></th>\n",
       "      <th></th>\n",
       "      <th></th>\n",
       "      <th></th>\n",
       "      <th></th>\n",
       "      <th></th>\n",
       "      <th></th>\n",
       "      <th></th>\n",
       "      <th></th>\n",
       "    </tr>\n",
       "  </thead>\n",
       "  <tbody>\n",
       "    <tr>\n",
       "      <th>2021-08-12 00:00:00-04:00</th>\n",
       "      <td>115.49</td>\n",
       "      <td>115.5799</td>\n",
       "      <td>115.4</td>\n",
       "      <td>115.54</td>\n",
       "      <td>4248390</td>\n",
       "      <td>443.62</td>\n",
       "      <td>445.2572</td>\n",
       "      <td>442.66</td>\n",
       "      <td>445.08</td>\n",
       "      <td>34892086</td>\n",
       "    </tr>\n",
       "  </tbody>\n",
       "</table>\n",
       "</div>"
      ],
      "text/plain": [
       "                              AGG                                       SPY  \\\n",
       "                             open      high    low   close   volume    open   \n",
       "time                                                                          \n",
       "2021-08-12 00:00:00-04:00  115.49  115.5799  115.4  115.54  4248390  443.62   \n",
       "\n",
       "                                                               \n",
       "                               high     low   close    volume  \n",
       "time                                                           \n",
       "2021-08-12 00:00:00-04:00  445.2572  442.66  445.08  34892086  "
      ]
     },
     "execution_count": 17,
     "metadata": {},
     "output_type": "execute_result"
    }
   ],
   "source": [
    "# Get current closing prices for SPY and AGG\n",
    "# (use a limit=1000 parameter to call the most recent 1000 days of data)\n",
    "df_portfolio = alpaca.get_barset(\n",
    "    tickers,\n",
    "    timeframe,\n",
    "    start = today,\n",
    "    end = today,\n",
    "    limit = 1000\n",
    ").df\n",
    "\n",
    "# Preview DataFrame\n",
    "df_portfolio"
   ]
  },
  {
   "cell_type": "code",
   "execution_count": 18,
   "metadata": {},
   "outputs": [
    {
     "name": "stdout",
     "output_type": "stream",
     "text": [
      "Current AGG closing price: $115.54\n",
      "Current SPY closing price: $445.08\n"
     ]
    }
   ],
   "source": [
    "# Pick AGG and SPY close prices\n",
    "agg_close_price = float(df_portfolio[\"AGG\"][\"close\"])\n",
    "spy_close_price = float(df_portfolio[\"SPY\"][\"close\"])\n",
    "\n",
    "# Print AGG and SPY close prices\n",
    "print(f\"Current AGG closing price: ${agg_close_price}\")\n",
    "print(f\"Current SPY closing price: ${spy_close_price}\")"
   ]
  },
  {
   "cell_type": "code",
   "execution_count": 19,
   "metadata": {},
   "outputs": [
    {
     "data": {
      "text/html": [
       "<div>\n",
       "<style scoped>\n",
       "    .dataframe tbody tr th:only-of-type {\n",
       "        vertical-align: middle;\n",
       "    }\n",
       "\n",
       "    .dataframe tbody tr th {\n",
       "        vertical-align: top;\n",
       "    }\n",
       "\n",
       "    .dataframe thead th {\n",
       "        text-align: right;\n",
       "    }\n",
       "</style>\n",
       "<table border=\"1\" class=\"dataframe\">\n",
       "  <thead>\n",
       "    <tr style=\"text-align: right;\">\n",
       "      <th></th>\n",
       "      <th>shares</th>\n",
       "    </tr>\n",
       "  </thead>\n",
       "  <tbody>\n",
       "    <tr>\n",
       "      <th>AGG</th>\n",
       "      <td>200</td>\n",
       "    </tr>\n",
       "    <tr>\n",
       "      <th>SPY</th>\n",
       "      <td>50</td>\n",
       "    </tr>\n",
       "  </tbody>\n",
       "</table>\n",
       "</div>"
      ],
      "text/plain": [
       "     shares\n",
       "AGG     200\n",
       "SPY      50"
      ]
     },
     "execution_count": 19,
     "metadata": {},
     "output_type": "execute_result"
    }
   ],
   "source": [
    "# Create the shares DataFrame with `tickers` as index\n",
    "df_shares = pd.DataFrame(shares_data, index=tickers)\n",
    "\n",
    "# Display shares data\n",
    "df_shares"
   ]
  },
  {
   "cell_type": "code",
   "execution_count": 20,
   "metadata": {},
   "outputs": [
    {
     "name": "stdout",
     "output_type": "stream",
     "text": [
      "The current value of your 50 SPY shares is $22254.00\n",
      "The current value of your 200 AGG shares is $23108.00\n"
     ]
    }
   ],
   "source": [
    "# Compute the current value of shares\n",
    "my_spy_value = spy_close_price * df_shares.loc[\"SPY\"][\"shares\"]\n",
    "my_agg_value = agg_close_price * df_shares.loc[\"AGG\"][\"shares\"]\n",
    "\n",
    "# Print current value of shares\n",
    "print(f\"The current value of your {my_spy} SPY shares is ${my_spy_value:0.2f}\")\n",
    "print(f\"The current value of your {my_agg} AGG shares is ${my_agg_value:0.2f}\")"
   ]
  },
  {
   "cell_type": "markdown",
   "metadata": {},
   "source": [
    "### Savings Health Analysis"
   ]
  },
  {
   "cell_type": "code",
   "execution_count": 21,
   "metadata": {},
   "outputs": [],
   "source": [
    "# Set monthly household income\n",
    "monthly_income = 1200"
   ]
  },
  {
   "cell_type": "code",
   "execution_count": 22,
   "metadata": {},
   "outputs": [
    {
     "data": {
      "text/plain": [
       "97475.15"
      ]
     },
     "execution_count": 22,
     "metadata": {},
     "output_type": "execute_result"
    }
   ],
   "source": [
    "# Consolidate financial assets data\n",
    "financial_assets = my_spy_value + my_agg_value + monthly_income + crypto_assets\n",
    "financial_assets"
   ]
  },
  {
   "cell_type": "code",
   "execution_count": 26,
   "metadata": {},
   "outputs": [
    {
     "data": {
      "text/html": [
       "<div>\n",
       "<style scoped>\n",
       "    .dataframe tbody tr th:only-of-type {\n",
       "        vertical-align: middle;\n",
       "    }\n",
       "\n",
       "    .dataframe tbody tr th {\n",
       "        vertical-align: top;\n",
       "    }\n",
       "\n",
       "    .dataframe thead th {\n",
       "        text-align: right;\n",
       "    }\n",
       "</style>\n",
       "<table border=\"1\" class=\"dataframe\">\n",
       "  <thead>\n",
       "    <tr style=\"text-align: right;\">\n",
       "      <th></th>\n",
       "      <th>amount</th>\n",
       "    </tr>\n",
       "  </thead>\n",
       "  <tbody>\n",
       "    <tr>\n",
       "      <th>crypto</th>\n",
       "      <td>50913.15</td>\n",
       "    </tr>\n",
       "    <tr>\n",
       "      <th>shares</th>\n",
       "      <td>45362.00</td>\n",
       "    </tr>\n",
       "  </tbody>\n",
       "</table>\n",
       "</div>"
      ],
      "text/plain": [
       "          amount\n",
       "crypto  50913.15\n",
       "shares  45362.00"
      ]
     },
     "metadata": {},
     "output_type": "display_data"
    }
   ],
   "source": [
    "# Create savings DataFrame\n",
    "crypto_assets = current_btc_value + current_eth_value\n",
    "shares_assets = my_agg_value + my_spy_value\n",
    "data = {'amount':[crypto_assets,shares_assets]} \n",
    "df_savings = pd.DataFrame(data, index =['crypto', 'shares']) \n",
    "\n",
    "# Display savings DataFrame\n",
    "display(df_savings)"
   ]
  },
  {
   "cell_type": "code",
   "execution_count": 24,
   "metadata": {},
   "outputs": [
    {
     "data": {
      "text/plain": [
       "<AxesSubplot:title={'center':'Personal Savings'}, ylabel='amount'>"
      ]
     },
     "execution_count": 24,
     "metadata": {},
     "output_type": "execute_result"
    },
    {
     "data": {
      "image/png": "[encoded data removed]",
      "text/plain": [
       "<Figure size 432x288 with 1 Axes>"
      ]
     },
     "metadata": {},
     "output_type": "display_data"
    }
   ],
   "source": [
    "# Plot savings pie chart\n",
    "df_savings.plot.pie(y=0, title = \"Personal Savings\")"
   ]
  },
  {
   "cell_type": "code",
   "execution_count": 29,
   "metadata": {},
   "outputs": [
    {
     "data": {
      "text/html": [
       "<div>\n",
       "<style scoped>\n",
       "    .dataframe tbody tr th:only-of-type {\n",
       "        vertical-align: middle;\n",
       "    }\n",
       "\n",
       "    .dataframe tbody tr th {\n",
       "        vertical-align: top;\n",
       "    }\n",
       "\n",
       "    .dataframe thead th {\n",
       "        text-align: right;\n",
       "    }\n",
       "</style>\n",
       "<table border=\"1\" class=\"dataframe\">\n",
       "  <thead>\n",
       "    <tr style=\"text-align: right;\">\n",
       "      <th></th>\n",
       "      <th>amount</th>\n",
       "    </tr>\n",
       "  </thead>\n",
       "  <tbody>\n",
       "    <tr>\n",
       "      <th>crypto</th>\n",
       "      <td>50913.15</td>\n",
       "    </tr>\n",
       "    <tr>\n",
       "      <th>shares</th>\n",
       "      <td>45362.00</td>\n",
       "    </tr>\n",
       "  </tbody>\n",
       "</table>\n",
       "</div>"
      ],
      "text/plain": [
       "          amount\n",
       "crypto  50913.15\n",
       "shares  45362.00"
      ]
     },
     "execution_count": 29,
     "metadata": {},
     "output_type": "execute_result"
    }
   ],
   "source": [
    "df_savings"
   ]
  },
  {
   "cell_type": "code",
   "execution_count": 28,
   "metadata": {},
   "outputs": [
    {
     "name": "stdout",
     "output_type": "stream",
     "text": [
      "You have enough money for an emergency\n"
     ]
    }
   ],
   "source": [
    "# Set ideal emergency fund\n",
    "emergency_fund = monthly_income * 3\n",
    "\n",
    "# Calculate total amount of savings\n",
    "total_savings = df_savings['amount'].sum()\n",
    "\n",
    "# Validate saving health\n",
    "if total_savings > emergency_fund:\n",
    "    print(\"You have enough money for an emergency\")\n",
    "elif total_savings < emergency_fund:\n",
    "    print(f\"You are $ {emergency_fund - total_savings} behind from reaching your three times monthly income\")\n",
    "else:\n",
    "    print(\"Good Work! you have reached youur goal of savings\")"
   ]
  },
  {
   "cell_type": "markdown",
   "metadata": {},
   "source": [
    "## Part 2 - Retirement Planning\n",
    "\n",
    "### Monte Carlo Simulation"
   ]
  },
  {
   "cell_type": "code",
   "execution_count": 37,
   "metadata": {},
   "outputs": [],
   "source": [
    "# Set start and end dates of five years back from today.\n",
    "# Sample results may vary from the solution based on the time frame chosen\n",
    "start_date = pd.Timestamp('2017-01-01', tz='America/New_York').isoformat()\n",
    "end_date = pd.Timestamp('2021-01-01', tz='America/New_York').isoformat()"
   ]
  },
  {
   "cell_type": "code",
   "execution_count": 43,
   "metadata": {},
   "outputs": [
    {
     "data": {
      "text/html": [
       "<div>\n",
       "<style scoped>\n",
       "    .dataframe tbody tr th:only-of-type {\n",
       "        vertical-align: middle;\n",
       "    }\n",
       "\n",
       "    .dataframe tbody tr th {\n",
       "        vertical-align: top;\n",
       "    }\n",
       "\n",
       "    .dataframe thead tr th {\n",
       "        text-align: left;\n",
       "    }\n",
       "\n",
       "    .dataframe thead tr:last-of-type th {\n",
       "        text-align: right;\n",
       "    }\n",
       "</style>\n",
       "<table border=\"1\" class=\"dataframe\">\n",
       "  <thead>\n",
       "    <tr>\n",
       "      <th></th>\n",
       "      <th colspan=\"5\" halign=\"left\">AGG</th>\n",
       "      <th colspan=\"5\" halign=\"left\">SPY</th>\n",
       "    </tr>\n",
       "    <tr>\n",
       "      <th></th>\n",
       "      <th>open</th>\n",
       "      <th>high</th>\n",
       "      <th>low</th>\n",
       "      <th>close</th>\n",
       "      <th>volume</th>\n",
       "      <th>open</th>\n",
       "      <th>high</th>\n",
       "      <th>low</th>\n",
       "      <th>close</th>\n",
       "      <th>volume</th>\n",
       "    </tr>\n",
       "    <tr>\n",
       "      <th>time</th>\n",
       "      <th></th>\n",
       "      <th></th>\n",
       "      <th></th>\n",
       "      <th></th>\n",
       "      <th></th>\n",
       "      <th></th>\n",
       "      <th></th>\n",
       "      <th></th>\n",
       "      <th></th>\n",
       "      <th></th>\n",
       "    </tr>\n",
       "  </thead>\n",
       "  <tbody>\n",
       "    <tr>\n",
       "      <th>2017-01-11 00:00:00-05:00</th>\n",
       "      <td>108.53</td>\n",
       "      <td>108.93</td>\n",
       "      <td>108.420</td>\n",
       "      <td>108.585</td>\n",
       "      <td>3714128.0</td>\n",
       "      <td>NaN</td>\n",
       "      <td>NaN</td>\n",
       "      <td>NaN</td>\n",
       "      <td>NaN</td>\n",
       "      <td>NaN</td>\n",
       "    </tr>\n",
       "    <tr>\n",
       "      <th>2017-01-12 00:00:00-05:00</th>\n",
       "      <td>108.78</td>\n",
       "      <td>108.90</td>\n",
       "      <td>108.610</td>\n",
       "      <td>108.620</td>\n",
       "      <td>2876232.0</td>\n",
       "      <td>226.50</td>\n",
       "      <td>226.75</td>\n",
       "      <td>224.955</td>\n",
       "      <td>226.57</td>\n",
       "      <td>59431700.0</td>\n",
       "    </tr>\n",
       "    <tr>\n",
       "      <th>2017-01-13 00:00:00-05:00</th>\n",
       "      <td>108.50</td>\n",
       "      <td>108.55</td>\n",
       "      <td>108.261</td>\n",
       "      <td>108.440</td>\n",
       "      <td>3083926.0</td>\n",
       "      <td>226.73</td>\n",
       "      <td>227.40</td>\n",
       "      <td>226.690</td>\n",
       "      <td>227.03</td>\n",
       "      <td>42877069.0</td>\n",
       "    </tr>\n",
       "    <tr>\n",
       "      <th>2017-01-17 00:00:00-05:00</th>\n",
       "      <td>108.81</td>\n",
       "      <td>108.87</td>\n",
       "      <td>108.650</td>\n",
       "      <td>108.790</td>\n",
       "      <td>3253649.0</td>\n",
       "      <td>226.31</td>\n",
       "      <td>226.78</td>\n",
       "      <td>225.800</td>\n",
       "      <td>226.29</td>\n",
       "      <td>44347527.0</td>\n",
       "    </tr>\n",
       "    <tr>\n",
       "      <th>2017-01-18 00:00:00-05:00</th>\n",
       "      <td>108.60</td>\n",
       "      <td>108.67</td>\n",
       "      <td>108.235</td>\n",
       "      <td>108.315</td>\n",
       "      <td>2873994.0</td>\n",
       "      <td>226.54</td>\n",
       "      <td>226.80</td>\n",
       "      <td>225.900</td>\n",
       "      <td>226.74</td>\n",
       "      <td>42486413.0</td>\n",
       "    </tr>\n",
       "  </tbody>\n",
       "</table>\n",
       "</div>"
      ],
      "text/plain": [
       "                              AGG                                       \\\n",
       "                             open    high      low    close     volume   \n",
       "time                                                                     \n",
       "2017-01-11 00:00:00-05:00  108.53  108.93  108.420  108.585  3714128.0   \n",
       "2017-01-12 00:00:00-05:00  108.78  108.90  108.610  108.620  2876232.0   \n",
       "2017-01-13 00:00:00-05:00  108.50  108.55  108.261  108.440  3083926.0   \n",
       "2017-01-17 00:00:00-05:00  108.81  108.87  108.650  108.790  3253649.0   \n",
       "2017-01-18 00:00:00-05:00  108.60  108.67  108.235  108.315  2873994.0   \n",
       "\n",
       "                              SPY                                       \n",
       "                             open    high      low   close      volume  \n",
       "time                                                                    \n",
       "2017-01-11 00:00:00-05:00     NaN     NaN      NaN     NaN         NaN  \n",
       "2017-01-12 00:00:00-05:00  226.50  226.75  224.955  226.57  59431700.0  \n",
       "2017-01-13 00:00:00-05:00  226.73  227.40  226.690  227.03  42877069.0  \n",
       "2017-01-17 00:00:00-05:00  226.31  226.78  225.800  226.29  44347527.0  \n",
       "2017-01-18 00:00:00-05:00  226.54  226.80  225.900  226.74  42486413.0  "
      ]
     },
     "execution_count": 43,
     "metadata": {},
     "output_type": "execute_result"
    }
   ],
   "source": [
    "# Get 5 years' worth of historical data for SPY and AGG\n",
    "# (use a limit=1000 parameter to call the most recent 1000 days of data)\n",
    "df_stock_data = alpaca.get_barset(\n",
    "    tickers,\n",
    "    timeframe,\n",
    "    start = start_date,\n",
    "    end = end_date,\n",
    "    limit = 1000\n",
    ").df\n",
    "\n",
    "# Display sample data\n",
    "df_stock_data.head()"
   ]
  },
  {
   "cell_type": "code",
   "execution_count": 44,
   "metadata": {},
   "outputs": [],
   "source": [
    "# Configuring a Monte Carlo simulation to forecast 30 years cumulative returns\n",
    "MC_even_dist = MCSimulation(\n",
    "    portfolio_data = df_stock_data,\n",
    "    weights = [.40,.60],\n",
    "    num_simulation = 500,\n",
    "    num_trading_days = 252*30\n",
    ")"
   ]
  },
  {
   "cell_type": "code",
   "execution_count": 45,
   "metadata": {},
   "outputs": [
    {
     "data": {
      "text/html": [
       "<div>\n",
       "<style scoped>\n",
       "    .dataframe tbody tr th:only-of-type {\n",
       "        vertical-align: middle;\n",
       "    }\n",
       "\n",
       "    .dataframe tbody tr th {\n",
       "        vertical-align: top;\n",
       "    }\n",
       "\n",
       "    .dataframe thead tr th {\n",
       "        text-align: left;\n",
       "    }\n",
       "\n",
       "    .dataframe thead tr:last-of-type th {\n",
       "        text-align: right;\n",
       "    }\n",
       "</style>\n",
       "<table border=\"1\" class=\"dataframe\">\n",
       "  <thead>\n",
       "    <tr>\n",
       "      <th></th>\n",
       "      <th colspan=\"6\" halign=\"left\">AGG</th>\n",
       "      <th colspan=\"6\" halign=\"left\">SPY</th>\n",
       "    </tr>\n",
       "    <tr>\n",
       "      <th></th>\n",
       "      <th>open</th>\n",
       "      <th>high</th>\n",
       "      <th>low</th>\n",
       "      <th>close</th>\n",
       "      <th>volume</th>\n",
       "      <th>daily_return</th>\n",
       "      <th>open</th>\n",
       "      <th>high</th>\n",
       "      <th>low</th>\n",
       "      <th>close</th>\n",
       "      <th>volume</th>\n",
       "      <th>daily_return</th>\n",
       "    </tr>\n",
       "    <tr>\n",
       "      <th>time</th>\n",
       "      <th></th>\n",
       "      <th></th>\n",
       "      <th></th>\n",
       "      <th></th>\n",
       "      <th></th>\n",
       "      <th></th>\n",
       "      <th></th>\n",
       "      <th></th>\n",
       "      <th></th>\n",
       "      <th></th>\n",
       "      <th></th>\n",
       "      <th></th>\n",
       "    </tr>\n",
       "  </thead>\n",
       "  <tbody>\n",
       "    <tr>\n",
       "      <th>2017-01-11 00:00:00-05:00</th>\n",
       "      <td>108.53</td>\n",
       "      <td>108.93</td>\n",
       "      <td>108.420</td>\n",
       "      <td>108.585</td>\n",
       "      <td>3714128.0</td>\n",
       "      <td>NaN</td>\n",
       "      <td>NaN</td>\n",
       "      <td>NaN</td>\n",
       "      <td>NaN</td>\n",
       "      <td>NaN</td>\n",
       "      <td>NaN</td>\n",
       "      <td>NaN</td>\n",
       "    </tr>\n",
       "    <tr>\n",
       "      <th>2017-01-12 00:00:00-05:00</th>\n",
       "      <td>108.78</td>\n",
       "      <td>108.90</td>\n",
       "      <td>108.610</td>\n",
       "      <td>108.620</td>\n",
       "      <td>2876232.0</td>\n",
       "      <td>0.000322</td>\n",
       "      <td>226.50</td>\n",
       "      <td>226.75</td>\n",
       "      <td>224.955</td>\n",
       "      <td>226.57</td>\n",
       "      <td>59431700.0</td>\n",
       "      <td>NaN</td>\n",
       "    </tr>\n",
       "    <tr>\n",
       "      <th>2017-01-13 00:00:00-05:00</th>\n",
       "      <td>108.50</td>\n",
       "      <td>108.55</td>\n",
       "      <td>108.261</td>\n",
       "      <td>108.440</td>\n",
       "      <td>3083926.0</td>\n",
       "      <td>-0.001657</td>\n",
       "      <td>226.73</td>\n",
       "      <td>227.40</td>\n",
       "      <td>226.690</td>\n",
       "      <td>227.03</td>\n",
       "      <td>42877069.0</td>\n",
       "      <td>0.002030</td>\n",
       "    </tr>\n",
       "    <tr>\n",
       "      <th>2017-01-17 00:00:00-05:00</th>\n",
       "      <td>108.81</td>\n",
       "      <td>108.87</td>\n",
       "      <td>108.650</td>\n",
       "      <td>108.790</td>\n",
       "      <td>3253649.0</td>\n",
       "      <td>0.003228</td>\n",
       "      <td>226.31</td>\n",
       "      <td>226.78</td>\n",
       "      <td>225.800</td>\n",
       "      <td>226.29</td>\n",
       "      <td>44347527.0</td>\n",
       "      <td>-0.003259</td>\n",
       "    </tr>\n",
       "    <tr>\n",
       "      <th>2017-01-18 00:00:00-05:00</th>\n",
       "      <td>108.60</td>\n",
       "      <td>108.67</td>\n",
       "      <td>108.235</td>\n",
       "      <td>108.315</td>\n",
       "      <td>2873994.0</td>\n",
       "      <td>-0.004366</td>\n",
       "      <td>226.54</td>\n",
       "      <td>226.80</td>\n",
       "      <td>225.900</td>\n",
       "      <td>226.74</td>\n",
       "      <td>42486413.0</td>\n",
       "      <td>0.001989</td>\n",
       "    </tr>\n",
       "  </tbody>\n",
       "</table>\n",
       "</div>"
      ],
      "text/plain": [
       "                              AGG                                       \\\n",
       "                             open    high      low    close     volume   \n",
       "time                                                                     \n",
       "2017-01-11 00:00:00-05:00  108.53  108.93  108.420  108.585  3714128.0   \n",
       "2017-01-12 00:00:00-05:00  108.78  108.90  108.610  108.620  2876232.0   \n",
       "2017-01-13 00:00:00-05:00  108.50  108.55  108.261  108.440  3083926.0   \n",
       "2017-01-17 00:00:00-05:00  108.81  108.87  108.650  108.790  3253649.0   \n",
       "2017-01-18 00:00:00-05:00  108.60  108.67  108.235  108.315  2873994.0   \n",
       "\n",
       "                                           SPY                           \\\n",
       "                          daily_return    open    high      low   close   \n",
       "time                                                                      \n",
       "2017-01-11 00:00:00-05:00          NaN     NaN     NaN      NaN     NaN   \n",
       "2017-01-12 00:00:00-05:00     0.000322  226.50  226.75  224.955  226.57   \n",
       "2017-01-13 00:00:00-05:00    -0.001657  226.73  227.40  226.690  227.03   \n",
       "2017-01-17 00:00:00-05:00     0.003228  226.31  226.78  225.800  226.29   \n",
       "2017-01-18 00:00:00-05:00    -0.004366  226.54  226.80  225.900  226.74   \n",
       "\n",
       "                                                    \n",
       "                               volume daily_return  \n",
       "time                                                \n",
       "2017-01-11 00:00:00-05:00         NaN          NaN  \n",
       "2017-01-12 00:00:00-05:00  59431700.0          NaN  \n",
       "2017-01-13 00:00:00-05:00  42877069.0     0.002030  \n",
       "2017-01-17 00:00:00-05:00  44347527.0    -0.003259  \n",
       "2017-01-18 00:00:00-05:00  42486413.0     0.001989  "
      ]
     },
     "execution_count": 45,
     "metadata": {},
     "output_type": "execute_result"
    }
   ],
   "source": [
    "# Printing the simulation input data\n",
    "MC_even_dist.portfolio_data.head()"
   ]
  },
  {
   "cell_type": "code",
   "execution_count": 46,
   "metadata": {},
   "outputs": [
    {
     "name": "stdout",
     "output_type": "stream",
     "text": [
      "Running Monte Carlo simulation number 0.\n",
      "Running Monte Carlo simulation number 10.\n",
      "Running Monte Carlo simulation number 20.\n",
      "Running Monte Carlo simulation number 30.\n",
      "Running Monte Carlo simulation number 40.\n",
      "Running Monte Carlo simulation number 50.\n",
      "Running Monte Carlo simulation number 60.\n",
      "Running Monte Carlo simulation number 70.\n",
      "Running Monte Carlo simulation number 80.\n",
      "Running Monte Carlo simulation number 90.\n",
      "Running Monte Carlo simulation number 100.\n"
     ]
    },
    {
     "name": "stderr",
     "output_type": "stream",
     "text": [
      "C:\\Users\\Maaz\\Desktop\\Github_hira\\UTOR-VIRT-FIN-PT-11-2021-U-C\\05-APIs\\Unit 5 Homework\\Starter_Code\\MCForecastTools.py:117: PerformanceWarning: DataFrame is highly fragmented.  This is usually the result of calling `frame.insert` many times, which has poor performance.  Consider joining all columns at once using pd.concat(axis=1) instead.  To get a de-fragmented frame, use `newframe = frame.copy()`\n",
      "  portfolio_cumulative_returns[n] = (1 + sim_df.fillna(0)).cumprod()\n"
     ]
    },
    {
     "name": "stdout",
     "output_type": "stream",
     "text": [
      "Running Monte Carlo simulation number 110.\n",
      "Running Monte Carlo simulation number 120.\n",
      "Running Monte Carlo simulation number 130.\n",
      "Running Monte Carlo simulation number 140.\n",
      "Running Monte Carlo simulation number 150.\n",
      "Running Monte Carlo simulation number 160.\n",
      "Running Monte Carlo simulation number 170.\n",
      "Running Monte Carlo simulation number 180.\n",
      "Running Monte Carlo simulation number 190.\n",
      "Running Monte Carlo simulation number 200.\n",
      "Running Monte Carlo simulation number 210.\n",
      "Running Monte Carlo simulation number 220.\n",
      "Running Monte Carlo simulation number 230.\n",
      "Running Monte Carlo simulation number 240.\n",
      "Running Monte Carlo simulation number 250.\n",
      "Running Monte Carlo simulation number 260.\n",
      "Running Monte Carlo simulation number 270.\n",
      "Running Monte Carlo simulation number 280.\n",
      "Running Monte Carlo simulation number 290.\n",
      "Running Monte Carlo simulation number 300.\n",
      "Running Monte Carlo simulation number 310.\n",
      "Running Monte Carlo simulation number 320.\n",
      "Running Monte Carlo simulation number 330.\n",
      "Running Monte Carlo simulation number 340.\n",
      "Running Monte Carlo simulation number 350.\n",
      "Running Monte Carlo simulation number 360.\n",
      "Running Monte Carlo simulation number 370.\n",
      "Running Monte Carlo simulation number 380.\n",
      "Running Monte Carlo simulation number 390.\n",
      "Running Monte Carlo simulation number 400.\n",
      "Running Monte Carlo simulation number 410.\n",
      "Running Monte Carlo simulation number 420.\n",
      "Running Monte Carlo simulation number 430.\n",
      "Running Monte Carlo simulation number 440.\n",
      "Running Monte Carlo simulation number 450.\n",
      "Running Monte Carlo simulation number 460.\n",
      "Running Monte Carlo simulation number 470.\n",
      "Running Monte Carlo simulation number 480.\n",
      "Running Monte Carlo simulation number 490.\n"
     ]
    },
    {
     "data": {
      "text/html": [
       "<div>\n",
       "<style scoped>\n",
       "    .dataframe tbody tr th:only-of-type {\n",
       "        vertical-align: middle;\n",
       "    }\n",
       "\n",
       "    .dataframe tbody tr th {\n",
       "        vertical-align: top;\n",
       "    }\n",
       "\n",
       "    .dataframe thead th {\n",
       "        text-align: right;\n",
       "    }\n",
       "</style>\n",
       "<table border=\"1\" class=\"dataframe\">\n",
       "  <thead>\n",
       "    <tr style=\"text-align: right;\">\n",
       "      <th></th>\n",
       "      <th>0</th>\n",
       "      <th>1</th>\n",
       "      <th>2</th>\n",
       "      <th>3</th>\n",
       "      <th>4</th>\n",
       "      <th>5</th>\n",
       "      <th>6</th>\n",
       "      <th>7</th>\n",
       "      <th>8</th>\n",
       "      <th>9</th>\n",
       "      <th>...</th>\n",
       "      <th>490</th>\n",
       "      <th>491</th>\n",
       "      <th>492</th>\n",
       "      <th>493</th>\n",
       "      <th>494</th>\n",
       "      <th>495</th>\n",
       "      <th>496</th>\n",
       "      <th>497</th>\n",
       "      <th>498</th>\n",
       "      <th>499</th>\n",
       "    </tr>\n",
       "  </thead>\n",
       "  <tbody>\n",
       "    <tr>\n",
       "      <th>0</th>\n",
       "      <td>1.000000</td>\n",
       "      <td>1.000000</td>\n",
       "      <td>1.000000</td>\n",
       "      <td>1.000000</td>\n",
       "      <td>1.000000</td>\n",
       "      <td>1.000000</td>\n",
       "      <td>1.000000</td>\n",
       "      <td>1.000000</td>\n",
       "      <td>1.000000</td>\n",
       "      <td>1.000000</td>\n",
       "      <td>...</td>\n",
       "      <td>1.000000</td>\n",
       "      <td>1.000000</td>\n",
       "      <td>1.000000</td>\n",
       "      <td>1.000000</td>\n",
       "      <td>1.000000</td>\n",
       "      <td>1.000000</td>\n",
       "      <td>1.000000</td>\n",
       "      <td>1.000000</td>\n",
       "      <td>1.000000</td>\n",
       "      <td>1.000000</td>\n",
       "    </tr>\n",
       "    <tr>\n",
       "      <th>1</th>\n",
       "      <td>1.004811</td>\n",
       "      <td>0.993823</td>\n",
       "      <td>1.004355</td>\n",
       "      <td>0.991932</td>\n",
       "      <td>1.002260</td>\n",
       "      <td>1.007219</td>\n",
       "      <td>0.995465</td>\n",
       "      <td>1.006434</td>\n",
       "      <td>1.001021</td>\n",
       "      <td>0.998712</td>\n",
       "      <td>...</td>\n",
       "      <td>0.996757</td>\n",
       "      <td>1.006312</td>\n",
       "      <td>1.018708</td>\n",
       "      <td>1.004441</td>\n",
       "      <td>1.006359</td>\n",
       "      <td>1.007041</td>\n",
       "      <td>0.989806</td>\n",
       "      <td>1.010046</td>\n",
       "      <td>1.010788</td>\n",
       "      <td>1.011073</td>\n",
       "    </tr>\n",
       "    <tr>\n",
       "      <th>2</th>\n",
       "      <td>1.001783</td>\n",
       "      <td>0.998211</td>\n",
       "      <td>1.016227</td>\n",
       "      <td>0.986406</td>\n",
       "      <td>0.997263</td>\n",
       "      <td>1.011042</td>\n",
       "      <td>0.982207</td>\n",
       "      <td>1.015318</td>\n",
       "      <td>1.000870</td>\n",
       "      <td>1.007579</td>\n",
       "      <td>...</td>\n",
       "      <td>1.010885</td>\n",
       "      <td>1.013321</td>\n",
       "      <td>1.024722</td>\n",
       "      <td>0.998337</td>\n",
       "      <td>1.003638</td>\n",
       "      <td>1.014925</td>\n",
       "      <td>1.009462</td>\n",
       "      <td>1.002595</td>\n",
       "      <td>1.012037</td>\n",
       "      <td>1.012604</td>\n",
       "    </tr>\n",
       "    <tr>\n",
       "      <th>3</th>\n",
       "      <td>1.000841</td>\n",
       "      <td>0.995835</td>\n",
       "      <td>1.013994</td>\n",
       "      <td>0.985646</td>\n",
       "      <td>0.997439</td>\n",
       "      <td>1.030492</td>\n",
       "      <td>0.980242</td>\n",
       "      <td>1.001576</td>\n",
       "      <td>1.008973</td>\n",
       "      <td>1.020624</td>\n",
       "      <td>...</td>\n",
       "      <td>1.014382</td>\n",
       "      <td>1.021329</td>\n",
       "      <td>1.030048</td>\n",
       "      <td>1.000661</td>\n",
       "      <td>1.000351</td>\n",
       "      <td>1.007867</td>\n",
       "      <td>1.009065</td>\n",
       "      <td>1.008100</td>\n",
       "      <td>1.023521</td>\n",
       "      <td>1.002385</td>\n",
       "    </tr>\n",
       "    <tr>\n",
       "      <th>4</th>\n",
       "      <td>1.009953</td>\n",
       "      <td>0.991043</td>\n",
       "      <td>1.001740</td>\n",
       "      <td>0.985704</td>\n",
       "      <td>0.998649</td>\n",
       "      <td>1.024061</td>\n",
       "      <td>0.985383</td>\n",
       "      <td>1.003058</td>\n",
       "      <td>1.014078</td>\n",
       "      <td>1.020983</td>\n",
       "      <td>...</td>\n",
       "      <td>1.031224</td>\n",
       "      <td>1.012658</td>\n",
       "      <td>1.026001</td>\n",
       "      <td>0.999038</td>\n",
       "      <td>0.998203</td>\n",
       "      <td>1.001194</td>\n",
       "      <td>1.011552</td>\n",
       "      <td>0.993988</td>\n",
       "      <td>1.027392</td>\n",
       "      <td>0.993144</td>\n",
       "    </tr>\n",
       "    <tr>\n",
       "      <th>...</th>\n",
       "      <td>...</td>\n",
       "      <td>...</td>\n",
       "      <td>...</td>\n",
       "      <td>...</td>\n",
       "      <td>...</td>\n",
       "      <td>...</td>\n",
       "      <td>...</td>\n",
       "      <td>...</td>\n",
       "      <td>...</td>\n",
       "      <td>...</td>\n",
       "      <td>...</td>\n",
       "      <td>...</td>\n",
       "      <td>...</td>\n",
       "      <td>...</td>\n",
       "      <td>...</td>\n",
       "      <td>...</td>\n",
       "      <td>...</td>\n",
       "      <td>...</td>\n",
       "      <td>...</td>\n",
       "      <td>...</td>\n",
       "      <td>...</td>\n",
       "    </tr>\n",
       "    <tr>\n",
       "      <th>7556</th>\n",
       "      <td>13.477803</td>\n",
       "      <td>26.750341</td>\n",
       "      <td>29.652291</td>\n",
       "      <td>11.995727</td>\n",
       "      <td>46.466696</td>\n",
       "      <td>19.976439</td>\n",
       "      <td>22.751228</td>\n",
       "      <td>15.250100</td>\n",
       "      <td>9.018409</td>\n",
       "      <td>11.461566</td>\n",
       "      <td>...</td>\n",
       "      <td>8.924471</td>\n",
       "      <td>6.408627</td>\n",
       "      <td>4.050721</td>\n",
       "      <td>10.640319</td>\n",
       "      <td>6.547850</td>\n",
       "      <td>23.072482</td>\n",
       "      <td>18.075814</td>\n",
       "      <td>7.238604</td>\n",
       "      <td>47.034500</td>\n",
       "      <td>11.212738</td>\n",
       "    </tr>\n",
       "    <tr>\n",
       "      <th>7557</th>\n",
       "      <td>13.532290</td>\n",
       "      <td>26.845892</td>\n",
       "      <td>29.828817</td>\n",
       "      <td>11.969693</td>\n",
       "      <td>47.038712</td>\n",
       "      <td>20.058298</td>\n",
       "      <td>22.990888</td>\n",
       "      <td>15.144150</td>\n",
       "      <td>9.098467</td>\n",
       "      <td>11.456101</td>\n",
       "      <td>...</td>\n",
       "      <td>9.053186</td>\n",
       "      <td>6.333751</td>\n",
       "      <td>4.057821</td>\n",
       "      <td>10.781870</td>\n",
       "      <td>6.548789</td>\n",
       "      <td>22.978017</td>\n",
       "      <td>18.309217</td>\n",
       "      <td>7.231962</td>\n",
       "      <td>46.690069</td>\n",
       "      <td>11.366545</td>\n",
       "    </tr>\n",
       "    <tr>\n",
       "      <th>7558</th>\n",
       "      <td>13.567391</td>\n",
       "      <td>26.387618</td>\n",
       "      <td>29.738684</td>\n",
       "      <td>11.955474</td>\n",
       "      <td>47.345107</td>\n",
       "      <td>20.059896</td>\n",
       "      <td>22.892620</td>\n",
       "      <td>15.231583</td>\n",
       "      <td>9.177817</td>\n",
       "      <td>11.574404</td>\n",
       "      <td>...</td>\n",
       "      <td>9.058229</td>\n",
       "      <td>6.274547</td>\n",
       "      <td>4.024116</td>\n",
       "      <td>10.770075</td>\n",
       "      <td>6.566344</td>\n",
       "      <td>22.828160</td>\n",
       "      <td>18.182452</td>\n",
       "      <td>7.296211</td>\n",
       "      <td>46.778980</td>\n",
       "      <td>11.365928</td>\n",
       "    </tr>\n",
       "    <tr>\n",
       "      <th>7559</th>\n",
       "      <td>13.430131</td>\n",
       "      <td>26.385690</td>\n",
       "      <td>29.724690</td>\n",
       "      <td>11.914692</td>\n",
       "      <td>47.590723</td>\n",
       "      <td>20.012554</td>\n",
       "      <td>23.235276</td>\n",
       "      <td>15.391315</td>\n",
       "      <td>9.221225</td>\n",
       "      <td>11.514106</td>\n",
       "      <td>...</td>\n",
       "      <td>9.023978</td>\n",
       "      <td>6.302989</td>\n",
       "      <td>3.992142</td>\n",
       "      <td>10.915301</td>\n",
       "      <td>6.565314</td>\n",
       "      <td>22.977685</td>\n",
       "      <td>18.036470</td>\n",
       "      <td>7.235561</td>\n",
       "      <td>46.774850</td>\n",
       "      <td>11.383402</td>\n",
       "    </tr>\n",
       "    <tr>\n",
       "      <th>7560</th>\n",
       "      <td>13.408023</td>\n",
       "      <td>26.049714</td>\n",
       "      <td>29.733643</td>\n",
       "      <td>12.039475</td>\n",
       "      <td>47.335296</td>\n",
       "      <td>19.628189</td>\n",
       "      <td>23.278357</td>\n",
       "      <td>15.446390</td>\n",
       "      <td>9.233091</td>\n",
       "      <td>11.537621</td>\n",
       "      <td>...</td>\n",
       "      <td>9.019527</td>\n",
       "      <td>6.298966</td>\n",
       "      <td>3.957218</td>\n",
       "      <td>10.852238</td>\n",
       "      <td>6.617789</td>\n",
       "      <td>23.160848</td>\n",
       "      <td>18.102041</td>\n",
       "      <td>7.360150</td>\n",
       "      <td>46.604968</td>\n",
       "      <td>11.439768</td>\n",
       "    </tr>\n",
       "  </tbody>\n",
       "</table>\n",
       "<p>7561 rows × 500 columns</p>\n",
       "</div>"
      ],
      "text/plain": [
       "            0          1          2          3          4          5    \\\n",
       "0      1.000000   1.000000   1.000000   1.000000   1.000000   1.000000   \n",
       "1      1.004811   0.993823   1.004355   0.991932   1.002260   1.007219   \n",
       "2      1.001783   0.998211   1.016227   0.986406   0.997263   1.011042   \n",
       "3      1.000841   0.995835   1.013994   0.985646   0.997439   1.030492   \n",
       "4      1.009953   0.991043   1.001740   0.985704   0.998649   1.024061   \n",
       "...         ...        ...        ...        ...        ...        ...   \n",
       "7556  13.477803  26.750341  29.652291  11.995727  46.466696  19.976439   \n",
       "7557  13.532290  26.845892  29.828817  11.969693  47.038712  20.058298   \n",
       "7558  13.567391  26.387618  29.738684  11.955474  47.345107  20.059896   \n",
       "7559  13.430131  26.385690  29.724690  11.914692  47.590723  20.012554   \n",
       "7560  13.408023  26.049714  29.733643  12.039475  47.335296  19.628189   \n",
       "\n",
       "            6          7         8          9    ...       490       491  \\\n",
       "0      1.000000   1.000000  1.000000   1.000000  ...  1.000000  1.000000   \n",
       "1      0.995465   1.006434  1.001021   0.998712  ...  0.996757  1.006312   \n",
       "2      0.982207   1.015318  1.000870   1.007579  ...  1.010885  1.013321   \n",
       "3      0.980242   1.001576  1.008973   1.020624  ...  1.014382  1.021329   \n",
       "4      0.985383   1.003058  1.014078   1.020983  ...  1.031224  1.012658   \n",
       "...         ...        ...       ...        ...  ...       ...       ...   \n",
       "7556  22.751228  15.250100  9.018409  11.461566  ...  8.924471  6.408627   \n",
       "7557  22.990888  15.144150  9.098467  11.456101  ...  9.053186  6.333751   \n",
       "7558  22.892620  15.231583  9.177817  11.574404  ...  9.058229  6.274547   \n",
       "7559  23.235276  15.391315  9.221225  11.514106  ...  9.023978  6.302989   \n",
       "7560  23.278357  15.446390  9.233091  11.537621  ...  9.019527  6.298966   \n",
       "\n",
       "           492        493       494        495        496       497  \\\n",
       "0     1.000000   1.000000  1.000000   1.000000   1.000000  1.000000   \n",
       "1     1.018708   1.004441  1.006359   1.007041   0.989806  1.010046   \n",
       "2     1.024722   0.998337  1.003638   1.014925   1.009462  1.002595   \n",
       "3     1.030048   1.000661  1.000351   1.007867   1.009065  1.008100   \n",
       "4     1.026001   0.999038  0.998203   1.001194   1.011552  0.993988   \n",
       "...        ...        ...       ...        ...        ...       ...   \n",
       "7556  4.050721  10.640319  6.547850  23.072482  18.075814  7.238604   \n",
       "7557  4.057821  10.781870  6.548789  22.978017  18.309217  7.231962   \n",
       "7558  4.024116  10.770075  6.566344  22.828160  18.182452  7.296211   \n",
       "7559  3.992142  10.915301  6.565314  22.977685  18.036470  7.235561   \n",
       "7560  3.957218  10.852238  6.617789  23.160848  18.102041  7.360150   \n",
       "\n",
       "            498        499  \n",
       "0      1.000000   1.000000  \n",
       "1      1.010788   1.011073  \n",
       "2      1.012037   1.012604  \n",
       "3      1.023521   1.002385  \n",
       "4      1.027392   0.993144  \n",
       "...         ...        ...  \n",
       "7556  47.034500  11.212738  \n",
       "7557  46.690069  11.366545  \n",
       "7558  46.778980  11.365928  \n",
       "7559  46.774850  11.383402  \n",
       "7560  46.604968  11.439768  \n",
       "\n",
       "[7561 rows x 500 columns]"
      ]
     },
     "execution_count": 46,
     "metadata": {},
     "output_type": "execute_result"
    }
   ],
   "source": [
    "# Running a Monte Carlo simulation to forecast 30 years cumulative returns\n",
    "MC_even_dist.calc_cumulative_return()"
   ]
  },
  {
   "cell_type": "code",
   "execution_count": 47,
   "metadata": {},
   "outputs": [
    {
     "data": {
      "text/plain": [
       "<AxesSubplot:title={'center':'500 Simulations of Cumulative Portfolio Return Trajectories Over the Next 7560 Trading Days.'}>"
      ]
     },
     "execution_count": 47,
     "metadata": {},
     "output_type": "execute_result"
    },
    {
     "data": {
      "image/png": "[encoded data removed]",
      "text/plain": [
       "<Figure size 432x288 with 1 Axes>"
      ]
     },
     "metadata": {
      "needs_background": "light"
     },
     "output_type": "display_data"
    }
   ],
   "source": [
    "# Plot simulation outcomes\n",
    "line_plot = MC_even_dist.plot_simulation() \n",
    "line_plot"
   ]
  },
  {
   "cell_type": "code",
   "execution_count": 48,
   "metadata": {},
   "outputs": [
    {
     "data": {
      "image/png": "[encoded data removed]",
      "text/plain": [
       "<Figure size 432x288 with 1 Axes>"
      ]
     },
     "metadata": {
      "needs_background": "light"
     },
     "output_type": "display_data"
    }
   ],
   "source": [
    "# Plot probability distribution and confidence intervals\n",
    "dist_plot = MC_even_dist.plot_distribution()"
   ]
  },
  {
   "cell_type": "markdown",
   "metadata": {},
   "source": [
    "### Retirement Analysis"
   ]
  },
  {
   "cell_type": "code",
   "execution_count": 49,
   "metadata": {},
   "outputs": [
    {
     "name": "stdout",
     "output_type": "stream",
     "text": [
      "count           500.000000\n",
      "mean             18.980234\n",
      "std              15.230822\n",
      "min               1.282213\n",
      "25%               9.229333\n",
      "50%              14.725336\n",
      "75%              24.191369\n",
      "max             172.847536\n",
      "95% CI Lower      4.338889\n",
      "95% CI Upper     51.274412\n",
      "Name: 7560, dtype: float64\n"
     ]
    }
   ],
   "source": [
    "# Fetch summary statistics from the Monte Carlo simulation results\n",
    "summary_retirement = MC_even_dist.summarize_cumulative_return()\n",
    "\n",
    "# Print summary statistics\n",
    "print(summary_retirement)"
   ]
  },
  {
   "cell_type": "markdown",
   "metadata": {},
   "source": [
    "### Calculate the expected portfolio return at the `95%` lower and upper confidence intervals based on a `$20,000` initial investment."
   ]
  },
  {
   "cell_type": "code",
   "execution_count": 50,
   "metadata": {},
   "outputs": [
    {
     "name": "stdout",
     "output_type": "stream",
     "text": [
      "There is a 95% chance that an initial investment of $20000 in the portfolio over the next 30 years will end within in the range of $86777.78 and $1025488.24\n"
     ]
    }
   ],
   "source": [
    "# Set initial investment\n",
    "initial_investment = 20000\n",
    "\n",
    "# Use the lower and upper `95%` confidence intervals to calculate the range of the possible outcomes of our $20,000\n",
    "even_ci_lower = round(summary_retirement[8]*initial_investment,2)\n",
    "even_ci_upper = round(summary_retirement[9]*initial_investment,2)\n",
    "\n",
    "# Print results\n",
    "print(f\"There is a 95% chance that an initial investment of ${initial_investment} in the portfolio\"\n",
    "      f\" over the next 30 years will end within in the range of\"\n",
    "      f\" ${even_ci_lower} and ${even_ci_upper}\")"
   ]
  },
  {
   "cell_type": "markdown",
   "metadata": {},
   "source": [
    "### Calculate the expected portfolio return at the `95%` lower and upper confidence intervals based on a `50%` increase in the initial investment."
   ]
  },
  {
   "cell_type": "code",
   "execution_count": 51,
   "metadata": {},
   "outputs": [
    {
     "name": "stdout",
     "output_type": "stream",
     "text": [
      "There is a 95% chance that an initial investment of $30000.0 in the portfolio over the next 30 years will end within in the range of $130166.68 and $1538232.35\n"
     ]
    }
   ],
   "source": [
    "# Set initial investment\n",
    "initial_investment = 20000 * 1.5\n",
    "\n",
    "# Use the lower and upper `95%` confidence intervals to calculate the range of the possible outcomes of our $30,000\n",
    "even_ci_lower = round(summary_retirement[8]*initial_investment,2)\n",
    "even_ci_upper = round(summary_retirement[9]*initial_investment,2)\n",
    "\n",
    "# Print results\n",
    "print(f\"There is a 95% chance that an initial investment of ${initial_investment} in the portfolio\"\n",
    "      f\" over the next 30 years will end within in the range of\"\n",
    "      f\" ${even_ci_lower} and ${even_ci_upper}\")"
   ]
  },
  {
   "cell_type": "markdown",
   "metadata": {},
   "source": [
    "## Optional Challenge - Early Retirement\n",
    "\n",
    "\n",
    "### Five Years Retirement Option"
   ]
  },
  {
   "cell_type": "code",
   "execution_count": null,
   "metadata": {},
   "outputs": [],
   "source": [
    "# Configuring a Monte Carlo simulation to forecast 5 years cumulative returns"
   ]
  },
  {
   "cell_type": "code",
   "execution_count": null,
   "metadata": {},
   "outputs": [],
   "source": [
    "# Running a Monte Carlo simulation to forecast 5 years cumulative returns"
   ]
  },
  {
   "cell_type": "code",
   "execution_count": null,
   "metadata": {},
   "outputs": [],
   "source": [
    "# Plot simulation outcomes\n",
    "# YOUR CODE HERE!"
   ]
  },
  {
   "cell_type": "code",
   "execution_count": null,
   "metadata": {},
   "outputs": [],
   "source": [
    "# Plot probability distribution and confidence intervals\n",
    "# YOUR CODE HERE!"
   ]
  },
  {
   "cell_type": "code",
   "execution_count": null,
   "metadata": {},
   "outputs": [],
   "source": [
    "# Fetch summary statistics from the Monte Carlo simulation results\n",
    "# YOUR CODE HERE!\n",
    "\n",
    "# Print summary statistics\n",
    "# YOUR CODE HERE!"
   ]
  },
  {
   "cell_type": "code",
   "execution_count": null,
   "metadata": {},
   "outputs": [],
   "source": [
    "# Set initial investment\n",
    "# YOUR CODE HERE!\n",
    "\n",
    "# Use the lower and upper `95%` confidence intervals to calculate the range of the possible outcomes of our $60,000\n",
    "# YOUR CODE HERE!\n",
    "\n",
    "# Print results\n",
    "print(f\"There is a 95% chance that an initial investment of ${initial_investment} in the portfolio\"\n",
    "      f\" over the next 5 years will end within in the range of\"\n",
    "      f\" ${ci_lower_five} and ${ci_upper_five}\")"
   ]
  },
  {
   "cell_type": "markdown",
   "metadata": {},
   "source": [
    "### Ten Years Retirement Option"
   ]
  },
  {
   "cell_type": "code",
   "execution_count": null,
   "metadata": {},
   "outputs": [],
   "source": [
    "# Configuring a Monte Carlo simulation to forecast 10 years cumulative returns\n",
    "# YOUR CODE HERE!"
   ]
  },
  {
   "cell_type": "code",
   "execution_count": null,
   "metadata": {},
   "outputs": [],
   "source": [
    "# Running a Monte Carlo simulation to forecast 10 years cumulative returns\n",
    "# YOUR CODE HERE!"
   ]
  },
  {
   "cell_type": "code",
   "execution_count": null,
   "metadata": {},
   "outputs": [],
   "source": [
    "# Plot simulation outcomes\n",
    "# YOUR CODE HERE!"
   ]
  },
  {
   "cell_type": "code",
   "execution_count": null,
   "metadata": {},
   "outputs": [],
   "source": [
    "# Plot probability distribution and confidence intervals\n",
    "# YOUR CODE HERE!"
   ]
  },
  {
   "cell_type": "code",
   "execution_count": null,
   "metadata": {},
   "outputs": [],
   "source": [
    "# Fetch summary statistics from the Monte Carlo simulation results\n",
    "# YOUR CODE HERE!\n",
    "\n",
    "# Print summary statistics\n",
    "# YOUR CODE HERE!"
   ]
  },
  {
   "cell_type": "code",
   "execution_count": null,
   "metadata": {},
   "outputs": [],
   "source": [
    "# Set initial investment\n",
    "# YOUR CODE HERE!\n",
    "\n",
    "# Use the lower and upper `95%` confidence intervals to calculate the range of the possible outcomes of our $60,000\n",
    "# YOUR CODE HERE!\n",
    "\n",
    "# Print results\n",
    "print(f\"There is a 95% chance that an initial investment of ${initial_investment} in the portfolio\"\n",
    "      f\" over the next 10 years will end within in the range of\"\n",
    "      f\" ${ci_lower_ten} and ${ci_upper_ten}\")"
   ]
  },
  {
   "cell_type": "code",
   "execution_count": null,
   "metadata": {},
   "outputs": [],
   "source": []
  }
 ],
 "metadata": {
  "kernelspec": {
   "display_name": "Python 3 (ipykernel)",
   "language": "python",
   "name": "python3"
  },
  "language_info": {
   "codemirror_mode": {
    "name": "ipython",
    "version": 3
   },
   "file_extension": ".py",
   "mimetype": "text/x-python",
   "name": "python",
   "nbconvert_exporter": "python",
   "pygments_lexer": "ipython3",
   "version": "3.9.7"
  },
  "nteract": {
   "version": "0.28.0"
  }
 },
 "nbformat": 4,
 "nbformat_minor": 4
}
